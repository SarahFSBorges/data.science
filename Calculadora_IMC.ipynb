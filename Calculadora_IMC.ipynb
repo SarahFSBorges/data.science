{
  "nbformat": 4,
  "nbformat_minor": 0,
  "metadata": {
    "colab": {
      "provenance": [],
      "authorship_tag": "ABX9TyMcKxjTSisX8buZ70FuXBqo",
      "include_colab_link": true
    },
    "kernelspec": {
      "name": "python3",
      "display_name": "Python 3"
    },
    "language_info": {
      "name": "python"
    }
  },
  "cells": [
    {
      "cell_type": "markdown",
      "metadata": {
        "id": "view-in-github",
        "colab_type": "text"
      },
      "source": [
        "<a href=\"https://colab.research.google.com/github/SarahFSBorges/data.science/blob/main/Calculadora_IMC.ipynb\" target=\"_parent\"><img src=\"https://colab.research.google.com/assets/colab-badge.svg\" alt=\"Open In Colab\"/></a>"
      ]
    },
    {
      "cell_type": "markdown",
      "source": [
        "# Vamos verificar o Índice de Massa Corporal (IMC)?\n",
        "\n",
        "> É um parâmetro que classifica o nível de obesidade de um indivíduo.\n"
      ],
      "metadata": {
        "id": "LfcWUymW6cb2"
      }
    },
    {
      "cell_type": "code",
      "source": [
        "print (\"Bora calcular seu IMC?\")\n",
        "\n",
        "perguntar_nome = input(\"Qual é o seu nome? \" )\n",
        "nome = (\"Olá\", perguntar_nome)\n",
        "idade = input (f\"Qual sua idade? \")\n",
        "peso = float(input(\"Qual seu peso (em KG)? \"))\n",
        "altura = float(input(\"Qual sua Altura (em metros e usando ponto)? \"))\n",
        "\n",
        "print(\"Vamos calcular seu IMC\")\n",
        "\n",
        "imc = (peso / (altura * altura))\n",
        "\n",
        "print(perguntar_nome , (f\"seu IMC é: {imc:.2f}\"))\n",
        "\n",
        "if imc < 16:\n",
        "\tprint(\"Magreza grave\\nProcure um médico ou nutricionista.\")\n",
        "elif imc < 17:\n",
        "\tprint(\"Magreza moderada\\nPrecisa rever sua alimentação.\")\n",
        "elif imc < 18.5:\n",
        "\tprint(\"Magreza leve\\nPrecisa rever sua alimentação.\")\n",
        "elif imc < 25:\n",
        "\tprint(\"Saudável.\\nParabéns!\")\n",
        "elif imc < 30:\n",
        "\tprint(\"Sobrepeso\\nPrecisa rever sua alimentação.\")\n",
        "elif imc < 35:\n",
        "\tprint(\"Obesidade Grau I\\nProcure um médico ou nutricionista.\")\n",
        "elif imc < 40:\n",
        "\tprint(\"Obesidade Grau II (severa)\\nProcure um médico ou nutricionista.\")\n",
        "else:\n",
        "\tprint(\"Obesidade Grau III (mórbida)\\nProcure um médico ou nutricionista.\")"
      ],
      "metadata": {
        "colab": {
          "base_uri": "https://localhost:8080/"
        },
        "id": "-yHMg4xzEUoA",
        "outputId": "5d94783b-e922-4810-8e0b-c41d91c545eb"
      },
      "execution_count": null,
      "outputs": [
        {
          "output_type": "stream",
          "name": "stdout",
          "text": [
            "Bora calcular seu IMC?\n"
          ]
        }
      ]
    },
    {
      "cell_type": "code",
      "source": [],
      "metadata": {
        "id": "ggniyjw-FXpK"
      },
      "execution_count": null,
      "outputs": []
    }
  ]
}